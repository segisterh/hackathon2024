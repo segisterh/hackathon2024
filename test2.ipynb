{
 "cells": [
  {
   "cell_type": "code",
   "execution_count": null,
   "metadata": {},
   "outputs": [
    {
     "name": "stdout",
     "output_type": "stream",
     "text": [
      "0\n"
     ]
    },
    {
     "name": "stdout",
     "output_type": "stream",
     "text": [
      "1\n",
      "2\n",
      "3\n",
      "4\n",
      "5\n",
      "6\n",
      "7\n",
      "8\n",
      "9\n",
      "10\n",
      "11\n",
      "12\n",
      "13\n",
      "14\n",
      "15\n",
      "16\n",
      "17\n",
      "18\n",
      "19\n"
     ]
    }
   ],
   "source": [
    "# -*- coding: utf-8 -*-\n",
    "\"\"\"\n",
    "Created on Wed Jun 19 18:29:14 2024\n",
    "\n",
    "@author: l00416959\n",
    "\"\"\"\n",
    "\n",
    "import numpy as np\n",
    "import itertools\n",
    "\n",
    "cfg_path = '../Dataset0/Dataset0CfgData3.txt'\n",
    "# inputdata_path = '../Dataset0/Dataset0InputData1.txt'\n",
    "\n",
    "# func to read in slices\n",
    "def read_slice_of_file(file_path, start, end):\n",
    "    with open(file_path, 'r') as file:\n",
    "        # use itertools.islice to get slices\n",
    "        slice_lines = list(itertools.islice(file, start, end))\n",
    "    return slice_lines\n",
    "\n",
    "# read RoundYCfgDataX.txt \n",
    "slice_lines = read_slice_of_file(cfg_path, 1, 6)\n",
    "info = np.loadtxt(slice_lines)\n",
    "tol_samp_num = int(info[0])\n",
    "port_num = int(info[2])\n",
    "ant_num = int(info[3])\n",
    "sc_num = int(info[4])\n",
    "\n",
    "# read RoundYInputDataX. in slices \n",
    "H = []\n",
    "slice_samp_num = 1000   #number of samples\n",
    "slice_num = int(tol_samp_num / slice_samp_num) #number of slices\n",
    "for slice_idx in range(slice_num):\n",
    "    print(slice_idx)\n",
    "    slice_lines = read_slice_of_file(inputdata_path, slice_idx * slice_samp_num, (slice_idx + 1) * slice_samp_num)\n",
    "    Htmp = np.loadtxt(slice_lines)\n",
    "    Htmp = np.reshape(Htmp, (slice_samp_num, 2, sc_num, ant_num, port_num))\n",
    "    Htmp = Htmp[:, 0, :, :, :] + 1j*Htmp[:, 1, :, :, :]\n",
    "    Htmp = np.transpose(Htmp, (0,3,2,1))\n",
    "    \n",
    "    if np.size(H) == 0:\n",
    "        H = Htmp\n",
    "    else:\n",
    "        H = np.concatenate((H, Htmp), axis=0)"
   ]
  },
  {
   "cell_type": "code",
   "execution_count": 1,
   "metadata": {},
   "outputs": [],
   "source": [
    "import numpy as np\n",
    "import itertools\n",
    "\n",
    "H = np.load('../Dataset0/Dataset0InputData3.npy')"
   ]
  },
  {
   "cell_type": "code",
   "execution_count": 2,
   "metadata": {},
   "outputs": [],
   "source": [
    "###try extract features with pca\n",
    "import numpy as np\n",
    "\n",
    "\n",
    "def extract_features(H, n_components=50):\n",
    "    \"\"\"\n",
    "    Extract spatial and frequency features from the complex channel matrix H using Complex PCA.\n",
    "    \n",
    "    Parameters:\n",
    "        H (numpy.ndarray): Complex channel matrix with shape (samples, 64, 2, 408).\n",
    "        n_components (int): Number of dimensions to reduce to using PCA.\n",
    "        \n",
    "    Returns:\n",
    "        numpy.ndarray: Reduced feature representation (samples, n_components).\n",
    "    \"\"\"\n",
    "    num_samples, num_antennas, num_user_antennas, num_subcarriers = H.shape\n",
    "\n",
    "    # Step 1: Compute spatial covariance matrix\n",
    "    spatial_features = []\n",
    "    for sample in H:\n",
    "        # Combine user antenna dimensions into a single matrix (64, 816)\n",
    "        reshaped_sample = sample.reshape(num_antennas, -1)  # Shape: (64, 816)\n",
    "        # Compute spatial covariance (64x64)\n",
    "        spatial_cov = np.matmul(reshaped_sample, reshaped_sample.conj().T)\n",
    "        spatial_features.append(spatial_cov.flatten())  # Flatten into 1D array\n",
    "\n",
    "    spatial_features = np.array(spatial_features)  # Shape: (samples, 64*64)\n",
    "\n",
    "    # Step 2: Compute frequency domain features\n",
    "    frequency_features = []\n",
    "    for sample in H:\n",
    "        # Average across antennas and user antennas for each subcarrier (408)\n",
    "        freq_avg = np.mean(np.abs(sample), axis=(0, 1))  # Shape: (408,)\n",
    "        frequency_features.append(freq_avg)\n",
    "\n",
    "    frequency_features = np.array(frequency_features)  # Shape: (samples, 408)\n",
    "\n",
    "    # Step 3: Combine spatial and frequency features\n",
    "    combined_features = np.hstack((spatial_features, frequency_features))  # Shape: (samples, 64*64 + 408)\n",
    "\n",
    "    # Step 4: Apply Complex PCA for dimensionality reduction\n",
    "    # Compute covariance matrix of the combined features\n",
    "    cov_matrix = np.cov(combined_features.T)  # Shape: (features, features)\n",
    "    # Compute eigenvalues and eigenvectors\n",
    "    eigenvalues, eigenvectors = np.linalg.eig(cov_matrix)\n",
    "    # Sort by eigenvalues in descending order\n",
    "    idx = eigenvalues.argsort()[::-1]\n",
    "    eigenvectors = eigenvectors[:, idx]\n",
    "    # Select the top n_components eigenvectors\n",
    "    principal_components = eigenvectors[:, :n_components]  # Shape: (features, n_components)\n",
    "    # Project data onto the principal components\n",
    "    reduced_features = np.dot(combined_features, principal_components)  # Shape: (samples, n_components)\n",
    "\n",
    "    return reduced_features\n"
   ]
  },
  {
   "cell_type": "code",
   "execution_count": 2,
   "metadata": {},
   "outputs": [
    {
     "name": "stderr",
     "output_type": "stream",
     "text": [
      "/usr/local/lib/python3.10/dist-packages/tqdm/auto.py:21: TqdmWarning: IProgress not found. Please update jupyter and ipywidgets. See https://ipywidgets.readthedocs.io/en/stable/user_install.html\n",
      "  from .autonotebook import tqdm as notebook_tqdm\n",
      "2024-11-14 19:22:28.457098: E external/local_xla/xla/stream_executor/cuda/cuda_fft.cc:477] Unable to register cuFFT factory: Attempting to register factory for plugin cuFFT when one has already been registered\n",
      "WARNING: All log messages before absl::InitializeLog() is called are written to STDERR\n",
      "E0000 00:00:1731583348.578535    2869 cuda_dnn.cc:8310] Unable to register cuDNN factory: Attempting to register factory for plugin cuDNN when one has already been registered\n",
      "E0000 00:00:1731583348.613598    2869 cuda_blas.cc:1418] Unable to register cuBLAS factory: Attempting to register factory for plugin cuBLAS when one has already been registered\n",
      "2024-11-14 19:22:28.856183: I tensorflow/core/platform/cpu_feature_guard.cc:210] This TensorFlow binary is optimized to use available CPU instructions in performance-critical operations.\n",
      "To enable the following instructions: AVX2 FMA, in other operations, rebuild TensorFlow with the appropriate compiler flags.\n"
     ]
    }
   ],
   "source": [
    "import numpy as np\n",
    "import umap\n",
    "\n",
    "def extract_features_umap(H, n_components=50):\n",
    "    \"\"\"\n",
    "    使用 UMAP 从复数信道矩阵 H 中提取特征并降维。\n",
    "\n",
    "    参数:\n",
    "        H (numpy.ndarray): 复数信道矩阵，形状为 (samples, 64, 2, 408)。\n",
    "        n_components (int): UMAP 降维的目标维度。\n",
    "\n",
    "    返回:\n",
    "        numpy.ndarray: 降维后的特征表示，形状为 (samples, n_components)。\n",
    "    \"\"\"\n",
    "    num_samples, num_antennas, num_user_antennas, num_subcarriers = H.shape\n",
    "\n",
    "    # 步骤 1：计算空间协方差矩阵的幅度和相位特征\n",
    "    spatial_features = []\n",
    "    for sample in H:\n",
    "        reshaped_sample = sample.reshape(num_antennas, -1)  # 形状: (64, 816)\n",
    "        spatial_cov = np.matmul(reshaped_sample, reshaped_sample.conj().T)  # 计算协方差矩阵 (64, 64)\n",
    "        amplitude = np.abs(spatial_cov)  # 幅度 (64, 64)\n",
    "        phase = np.angle(spatial_cov)    # 相位 (64, 64)\n",
    "        spatial_features.append(np.hstack((amplitude.flatten(), phase.flatten())))  # 展平并合并\n",
    "\n",
    "    spatial_features = np.array(spatial_features)  # 形状: (samples, 64*64*2)\n",
    "\n",
    "    # 步骤 2：计算频域的幅度和相位特征\n",
    "    frequency_features = []\n",
    "    for sample in H:\n",
    "        amplitude_avg = np.mean(np.abs(sample), axis=(0, 1))  # 每个子载波的平均幅度 (408,)\n",
    "        phase_avg = np.mean(np.angle(sample), axis=(0, 1))    # 每个子载波的平均相位 (408,)\n",
    "        frequency_features.append(np.hstack((amplitude_avg, phase_avg)))  # 合并幅度和相位\n",
    "\n",
    "    frequency_features = np.array(frequency_features)  # 形状: (samples, 408*2)\n",
    "\n",
    "    # 步骤 3：合并空间和频率特征\n",
    "    combined_features = np.hstack((spatial_features, frequency_features))  # 形状: (samples, 64*64*2 + 408*2)\n",
    "\n",
    "    # 可选：对特征进行标准化（有助于 UMAP 的效果）\n",
    "    from sklearn.preprocessing import StandardScaler\n",
    "    scaler = StandardScaler()\n",
    "    combined_features = scaler.fit_transform(combined_features)\n",
    "\n",
    "    # 步骤 4：使用 UMAP 进行降维\n",
    "    reducer = umap.UMAP(n_components=n_components, random_state=0)\n",
    "    reduced_features = reducer.fit_transform(combined_features)\n",
    "\n",
    "    return reduced_features\n",
    "\n"
   ]
  },
  {
   "cell_type": "code",
   "execution_count": null,
   "metadata": {},
   "outputs": [],
   "source": [
    "###try extract features with svd\n",
    "import numpy as np\n",
    "\n",
    "def extract_features_optimized(H, n_components=50):\n",
    "    \"\"\"\n",
    "    Optimized feature extraction from complex channel matrix H.\n",
    "\n",
    "    Parameters:\n",
    "        H (numpy.ndarray): Complex channel matrix with shape (samples, 64, 2, 408).\n",
    "        n_components (int): Number of dimensions to reduce to using SVD.\n",
    "\n",
    "    Returns:\n",
    "        numpy.ndarray: Reduced feature representation (samples, n_components).\n",
    "    \"\"\"\n",
    "    num_samples, num_antennas, num_user_antennas, num_subcarriers = H.shape\n",
    "\n",
    "    # Step 1: Compute spatial covariance matrix using truncated representation\n",
    "    spatial_features = []\n",
    "    for sample in H:\n",
    "        reshaped_sample = sample.reshape(num_antennas, -1)  # (64, 816)\n",
    "        spatial_cov = np.matmul(reshaped_sample, reshaped_sample.conj().T)  # (64, 64)\n",
    "        # Use only the diagonal and few important off-diagonal elements\n",
    "        spatial_diag = np.diag(spatial_cov)  # Main diagonal (64,)\n",
    "        spatial_top_off_diag = np.mean(spatial_cov[:, :8], axis=1)  # Important off-diagonal elements\n",
    "        spatial_features.append(np.concatenate((spatial_diag, spatial_top_off_diag)))  # (64 + 8,)\n",
    "\n",
    "    spatial_features = np.array(spatial_features)  # Shape: (samples, 72)\n",
    "\n",
    "    # Step 2: Compute frequency domain features (simple average and variance)\n",
    "    frequency_features = []\n",
    "    for sample in H:\n",
    "        freq_avg = np.mean(np.abs(sample), axis=(0, 1))  # Average amplitude for each subcarrier (408,)\n",
    "        freq_var = np.var(np.abs(sample), axis=(0, 1))  # Variance for each subcarrier (408,)\n",
    "        frequency_features.append(np.concatenate((freq_avg, freq_var)))\n",
    "\n",
    "    frequency_features = np.array(frequency_features)  # Shape: (samples, 816)\n",
    "\n",
    "    # Step 3: Combine spatial and frequency features\n",
    "    combined_features = np.hstack((spatial_features, frequency_features))  # Shape: (samples, 888)\n",
    "\n",
    "    # Step 4: Dimensionality reduction using SVD\n",
    "    U, S, Vt = np.linalg.svd(combined_features, full_matrices=False)\n",
    "    reduced_features = U[:, :n_components] * S[:n_components]  # Project to top n_components\n",
    "\n",
    "    return reduced_features\n"
   ]
  },
  {
   "cell_type": "code",
   "execution_count": 3,
   "metadata": {},
   "outputs": [],
   "source": [
    "test_reduced = extract_features(H)"
   ]
  },
  {
   "cell_type": "code",
   "execution_count": 4,
   "metadata": {},
   "outputs": [],
   "source": [
    "import numpy as np\n",
    "\n",
    "def convert_to_real_amplitude_phase(H):\n",
    "    \"\"\"\n",
    "    Convert complex data to a real-valued matrix using amplitude and phase.\n",
    "    \n",
    "    Parameters:\n",
    "        H (numpy.ndarray): Complex-valued matrix with shape (samples, features).\n",
    "        \n",
    "    Returns:\n",
    "        numpy.ndarray: Real-valued matrix with shape (samples, features * 2).\n",
    "    \"\"\"\n",
    "    amplitude = np.abs(H)  # 振幅\n",
    "    phase = np.angle(H)    # 相位\n",
    "    return np.hstack((amplitude, phase))\n",
    "\n",
    "# 使用示例\n",
    "real_features = convert_to_real_amplitude_phase(test_reduced)\n"
   ]
  },
  {
   "cell_type": "code",
   "execution_count": null,
   "metadata": {},
   "outputs": [],
   "source": [
    "from sklearn.manifold import TSNE\n",
    "import numpy as np\n",
    "\n",
    "def reduce_dimension_tsne(features, n_components=2, batch_size=1000):\n",
    "    \"\"\"\n",
    "    使用 t-SNE 将高维数据降维到 2D。\n",
    "    \n",
    "    Parameters:\n",
    "        features (numpy.ndarray): 高维特征矩阵，形状为 (samples, n_features)。\n",
    "        n_components (int): 降维后的目标维度，默认为2。\n",
    "        \n",
    "    Returns:\n",
    "        numpy.ndarray: 降维后的坐标，形状为 (samples, n_components)。\n",
    "    \"\"\"\n",
    "    tsne = TSNE(n_components=n_components, random_state=0, perplexity=50, n_iter=1000)\n",
    "    low_dim_coords = tsne.fit_transform(features)\n",
    "    return low_dim_coords"
   ]
  },
  {
   "cell_type": "code",
   "execution_count": 6,
   "metadata": {},
   "outputs": [
    {
     "name": "stderr",
     "output_type": "stream",
     "text": [
      "/usr/local/lib/python3.10/dist-packages/sklearn/manifold/_t_sne.py:1162: FutureWarning: 'n_iter' was renamed to 'max_iter' in version 1.5 and will be removed in 1.7.\n",
      "  warnings.warn(\n"
     ]
    }
   ],
   "source": [
    "low_dim_coords = reduce_dimension_tsne(real_features)"
   ]
  },
  {
   "cell_type": "code",
   "execution_count": 12,
   "metadata": {},
   "outputs": [],
   "source": [
    "csi_file = './low_dim_coords.npy'\n",
    "np.save(csi_file, low_dim_coords)"
   ]
  },
  {
   "cell_type": "code",
   "execution_count": 7,
   "metadata": {},
   "outputs": [],
   "source": [
    "test2_reduced = extract_features(H)"
   ]
  },
  {
   "cell_type": "code",
   "execution_count": 7,
   "metadata": {},
   "outputs": [],
   "source": [
    "import numpy as np\n",
    "def read_anch_file(file_path, anch_samp_num):\n",
    "\n",
    "    anch_pos = []\n",
    "    with open(file_path, 'r') as file:\n",
    "        lines = file.readlines()\n",
    "        line_fmt = [line.rstrip('\\n').split(' ') for line in lines]\n",
    "    for line in line_fmt:\n",
    "        tmp = np.array([int(line[0]), float(line[1]), float(line[2])])\n",
    "        if np.size(anch_pos) == 0:\n",
    "            anch_pos = tmp\n",
    "        else:\n",
    "            anch_pos = np.vstack((anch_pos, tmp))\n",
    "    return anch_pos\n",
    "\n",
    "anch_pos_path = '../Dataset0/Dataset0InputPos3.txt'\n",
    "anch_pos = read_anch_file(anch_pos_path, 2000)"
   ]
  },
  {
   "cell_type": "code",
   "execution_count": 4,
   "metadata": {},
   "outputs": [],
   "source": [
    "low_dim_coords = np.load(\"/data/code/low_dim_coords.npy\")"
   ]
  },
  {
   "cell_type": "code",
   "execution_count": 8,
   "metadata": {},
   "outputs": [],
   "source": [
    "# 提取索引和真实坐标\n",
    "train_indices = anch_pos[:, 0].astype(int)  # 索引 (2000,)\n",
    "y_train = anch_pos[:, 1:]  # 真实坐标 (2000, 2)\n",
    "\n",
    "# 按索引提取2000个数据\n",
    "X_train = low_dim_coords[train_indices]\n",
    "\n",
    "# 提取剩下的18000个数据\n",
    "mask = np.ones(low_dim_coords.shape[0], dtype=bool)\n",
    "mask[train_indices] = False\n",
    "X_test = low_dim_coords[mask]"
   ]
  },
  {
   "cell_type": "code",
   "execution_count": 15,
   "metadata": {},
   "outputs": [
    {
     "name": "stdout",
     "output_type": "stream",
     "text": [
      "Epoch 1/200\n"
     ]
    },
    {
     "name": "stderr",
     "output_type": "stream",
     "text": [
      "/usr/local/lib/python3.10/dist-packages/keras/src/layers/core/dense.py:87: UserWarning: Do not pass an `input_shape`/`input_dim` argument to a layer. When using Sequential models, prefer using an `Input(shape)` object as the first layer in the model instead.\n",
      "  super().__init__(activity_regularizer=activity_regularizer, **kwargs)\n"
     ]
    },
    {
     "name": "stdout",
     "output_type": "stream",
     "text": [
      "\u001b[1m54/54\u001b[0m \u001b[32m━━━━━━━━━━━━━━━━━━━━\u001b[0m\u001b[37m\u001b[0m \u001b[1m2s\u001b[0m 6ms/step - loss: 1.0182 - val_loss: 1.0022 - learning_rate: 0.0010\n",
      "Epoch 2/200\n",
      "\u001b[1m54/54\u001b[0m \u001b[32m━━━━━━━━━━━━━━━━━━━━\u001b[0m\u001b[37m\u001b[0m \u001b[1m0s\u001b[0m 4ms/step - loss: 1.0027 - val_loss: 0.9999 - learning_rate: 0.0010\n",
      "Epoch 3/200\n",
      "\u001b[1m54/54\u001b[0m \u001b[32m━━━━━━━━━━━━━━━━━━━━\u001b[0m\u001b[37m\u001b[0m \u001b[1m0s\u001b[0m 3ms/step - loss: 1.0047 - val_loss: 0.9988 - learning_rate: 0.0010\n",
      "Epoch 4/200\n",
      "\u001b[1m54/54\u001b[0m \u001b[32m━━━━━━━━━━━━━━━━━━━━\u001b[0m\u001b[37m\u001b[0m \u001b[1m0s\u001b[0m 3ms/step - loss: 1.0135 - val_loss: 0.9954 - learning_rate: 0.0010\n",
      "Epoch 5/200\n",
      "\u001b[1m54/54\u001b[0m \u001b[32m━━━━━━━━━━━━━━━━━━━━\u001b[0m\u001b[37m\u001b[0m \u001b[1m0s\u001b[0m 3ms/step - loss: 1.0194 - val_loss: 0.9967 - learning_rate: 0.0010\n",
      "Epoch 6/200\n",
      "\u001b[1m54/54\u001b[0m \u001b[32m━━━━━━━━━━━━━━━━━━━━\u001b[0m\u001b[37m\u001b[0m \u001b[1m0s\u001b[0m 3ms/step - loss: 1.0089 - val_loss: 0.9963 - learning_rate: 0.0010\n",
      "Epoch 7/200\n",
      "\u001b[1m54/54\u001b[0m \u001b[32m━━━━━━━━━━━━━━━━━━━━\u001b[0m\u001b[37m\u001b[0m \u001b[1m0s\u001b[0m 3ms/step - loss: 0.9900 - val_loss: 1.0022 - learning_rate: 0.0010\n",
      "Epoch 8/200\n",
      "\u001b[1m54/54\u001b[0m \u001b[32m━━━━━━━━━━━━━━━━━━━━\u001b[0m\u001b[37m\u001b[0m \u001b[1m0s\u001b[0m 3ms/step - loss: 0.9924 - val_loss: 0.9993 - learning_rate: 0.0010\n",
      "Epoch 9/200\n",
      "\u001b[1m40/54\u001b[0m \u001b[32m━━━━━━━━━━━━━━\u001b[0m\u001b[37m━━━━━━\u001b[0m \u001b[1m0s\u001b[0m 1ms/step - loss: 0.9856 \n",
      "Epoch 9: ReduceLROnPlateau reducing learning rate to 0.0005000000237487257.\n",
      "\u001b[1m54/54\u001b[0m \u001b[32m━━━━━━━━━━━━━━━━━━━━\u001b[0m\u001b[37m\u001b[0m \u001b[1m0s\u001b[0m 3ms/step - loss: 0.9882 - val_loss: 0.9972 - learning_rate: 0.0010\n",
      "Epoch 10/200\n",
      "\u001b[1m54/54\u001b[0m \u001b[32m━━━━━━━━━━━━━━━━━━━━\u001b[0m\u001b[37m\u001b[0m \u001b[1m0s\u001b[0m 3ms/step - loss: 0.9719 - val_loss: 0.9976 - learning_rate: 5.0000e-04\n",
      "Epoch 11/200\n",
      "\u001b[1m54/54\u001b[0m \u001b[32m━━━━━━━━━━━━━━━━━━━━\u001b[0m\u001b[37m\u001b[0m \u001b[1m0s\u001b[0m 3ms/step - loss: 1.0151 - val_loss: 0.9984 - learning_rate: 5.0000e-04\n",
      "Epoch 12/200\n",
      "\u001b[1m54/54\u001b[0m \u001b[32m━━━━━━━━━━━━━━━━━━━━\u001b[0m\u001b[37m\u001b[0m \u001b[1m0s\u001b[0m 4ms/step - loss: 0.9919 - val_loss: 1.0010 - learning_rate: 5.0000e-04\n",
      "Epoch 13/200\n",
      "\u001b[1m54/54\u001b[0m \u001b[32m━━━━━━━━━━━━━━━━━━━━\u001b[0m\u001b[37m\u001b[0m \u001b[1m0s\u001b[0m 3ms/step - loss: 1.0030 - val_loss: 0.9983 - learning_rate: 5.0000e-04\n",
      "Epoch 14/200\n",
      "\u001b[1m35/54\u001b[0m \u001b[32m━━━━━━━━━━━━\u001b[0m\u001b[37m━━━━━━━━\u001b[0m \u001b[1m0s\u001b[0m 2ms/step - loss: 0.9689 \n",
      "Epoch 14: ReduceLROnPlateau reducing learning rate to 0.0002500000118743628.\n",
      "\u001b[1m54/54\u001b[0m \u001b[32m━━━━━━━━━━━━━━━━━━━━\u001b[0m\u001b[37m\u001b[0m \u001b[1m0s\u001b[0m 3ms/step - loss: 0.9797 - val_loss: 0.9997 - learning_rate: 5.0000e-04\n",
      "\u001b[1m563/563\u001b[0m \u001b[32m━━━━━━━━━━━━━━━━━━━━\u001b[0m\u001b[37m\u001b[0m \u001b[1m1s\u001b[0m 1ms/step\n"
     ]
    }
   ],
   "source": [
    "from sklearn.preprocessing import StandardScaler\n",
    "from tensorflow.keras.models import Sequential\n",
    "from tensorflow.keras.layers import Dense, Dropout\n",
    "from tensorflow.keras.optimizers import Adam\n",
    "from tensorflow.keras.callbacks import EarlyStopping, ReduceLROnPlateau\n",
    "import numpy as np\n",
    "from sklearn.model_selection import train_test_split\n",
    "\n",
    "# 标准化 X 和 y\n",
    "scaler_X = StandardScaler()\n",
    "X_train_std = scaler_X.fit_transform(X_train)\n",
    "X_test_std = scaler_X.transform(X_test)\n",
    "\n",
    "scaler_y = StandardScaler()\n",
    "y_train_std = scaler_y.fit_transform(y_train)\n",
    "\n",
    "# 将部分数据作为验证集\n",
    "X_train_split, X_val, y_train_split, y_val = train_test_split(X_train_std, y_train_std, test_size=0.15, random_state=21)\n",
    "\n",
    "# 定义神经网络模型\n",
    "model = Sequential([\n",
    "    Dense(64, activation='relu', input_shape=(2,)),\n",
    "    Dense(128, activation='relu'),\n",
    "    Dense(64, activation='relu'),\n",
    "    Dense(2)  # 输出层\n",
    "])\n",
    "\n",
    "# 使用 Adam 编译模型\n",
    "model.compile(optimizer=Adam(learning_rate=0.001), loss='mse')\n",
    "\n",
    "# 使用 EarlyStopping 和 ReduceLROnPlateau 调整学习率并防止过拟合\n",
    "early_stopping = EarlyStopping(monitor='val_loss', patience=10, restore_best_weights=True)\n",
    "reduce_lr = ReduceLROnPlateau(monitor='val_loss', factor=0.5, patience=5, min_lr=1e-5, verbose=1)\n",
    "\n",
    "# 训练模型\n",
    "model.fit(X_train_split, y_train_split, validation_data=(X_val, y_val), epochs=200, batch_size=32, verbose=1, callbacks=[early_stopping, reduce_lr])\n",
    "\n",
    "# 预测并逆标准化\n",
    "predict_midnn_std = model.predict(X_test_std)\n",
    "predict_midnn_coords = scaler_y.inverse_transform(predict_midnn_std)\n"
   ]
  },
  {
   "cell_type": "code",
   "execution_count": 8,
   "metadata": {},
   "outputs": [
    {
     "name": "stderr",
     "output_type": "stream",
     "text": [
      "/usr/local/lib/python3.10/dist-packages/keras/src/layers/core/dense.py:87: UserWarning: Do not pass an `input_shape`/`input_dim` argument to a layer. When using Sequential models, prefer using an `Input(shape)` object as the first layer in the model instead.\n",
      "  super().__init__(activity_regularizer=activity_regularizer, **kwargs)\n",
      "/usr/local/lib/python3.10/dist-packages/keras/src/layers/activations/leaky_relu.py:41: UserWarning: Argument `alpha` is deprecated. Use `negative_slope` instead.\n",
      "  warnings.warn(\n",
      "W0000 00:00:1731583650.998235    2869 gpu_device.cc:2344] Cannot dlopen some GPU libraries. Please make sure the missing libraries mentioned above are installed properly if you would like to use GPU. Follow the guide at https://www.tensorflow.org/install/gpu for how to download and setup the required libraries for your platform.\n",
      "Skipping registering GPU devices...\n"
     ]
    },
    {
     "name": "stdout",
     "output_type": "stream",
     "text": [
      "Epoch 1/300\n",
      "\u001b[1m29/29\u001b[0m \u001b[32m━━━━━━━━━━━━━━━━━━━━\u001b[0m\u001b[37m\u001b[0m \u001b[1m1s\u001b[0m 11ms/step - loss: 0.9931 - val_loss: 1.0265\n",
      "Epoch 2/300\n",
      "\u001b[1m29/29\u001b[0m \u001b[32m━━━━━━━━━━━━━━━━━━━━\u001b[0m\u001b[37m\u001b[0m \u001b[1m0s\u001b[0m 5ms/step - loss: 0.9807 - val_loss: 1.0273\n",
      "Epoch 3/300\n",
      "\u001b[1m29/29\u001b[0m \u001b[32m━━━━━━━━━━━━━━━━━━━━\u001b[0m\u001b[37m\u001b[0m \u001b[1m0s\u001b[0m 5ms/step - loss: 1.0053 - val_loss: 1.0269\n",
      "Epoch 4/300\n",
      "\u001b[1m29/29\u001b[0m \u001b[32m━━━━━━━━━━━━━━━━━━━━\u001b[0m\u001b[37m\u001b[0m \u001b[1m0s\u001b[0m 6ms/step - loss: 0.9868 - val_loss: 1.0277\n",
      "Epoch 5/300\n",
      "\u001b[1m29/29\u001b[0m \u001b[32m━━━━━━━━━━━━━━━━━━━━\u001b[0m\u001b[37m\u001b[0m \u001b[1m0s\u001b[0m 6ms/step - loss: 1.0231 - val_loss: 1.0273\n",
      "Epoch 6/300\n",
      "\u001b[1m29/29\u001b[0m \u001b[32m━━━━━━━━━━━━━━━━━━━━\u001b[0m\u001b[37m\u001b[0m \u001b[1m0s\u001b[0m 5ms/step - loss: 0.9867 - val_loss: 1.0297\n",
      "Epoch 7/300\n",
      "\u001b[1m29/29\u001b[0m \u001b[32m━━━━━━━━━━━━━━━━━━━━\u001b[0m\u001b[37m\u001b[0m \u001b[1m0s\u001b[0m 6ms/step - loss: 0.9944 - val_loss: 1.0303\n",
      "Epoch 8/300\n",
      "\u001b[1m29/29\u001b[0m \u001b[32m━━━━━━━━━━━━━━━━━━━━\u001b[0m\u001b[37m\u001b[0m \u001b[1m0s\u001b[0m 4ms/step - loss: 1.0037 - val_loss: 1.0283\n",
      "Epoch 9/300\n",
      "\u001b[1m29/29\u001b[0m \u001b[32m━━━━━━━━━━━━━━━━━━━━\u001b[0m\u001b[37m\u001b[0m \u001b[1m0s\u001b[0m 6ms/step - loss: 0.9783 - val_loss: 1.0284\n",
      "Epoch 10/300\n",
      "\u001b[1m29/29\u001b[0m \u001b[32m━━━━━━━━━━━━━━━━━━━━\u001b[0m\u001b[37m\u001b[0m \u001b[1m0s\u001b[0m 6ms/step - loss: 1.0004 - val_loss: 1.0297\n",
      "Epoch 11/300\n",
      "\u001b[1m29/29\u001b[0m \u001b[32m━━━━━━━━━━━━━━━━━━━━\u001b[0m\u001b[37m\u001b[0m \u001b[1m0s\u001b[0m 6ms/step - loss: 1.0074 - val_loss: 1.0294\n",
      "\u001b[1m563/563\u001b[0m \u001b[32m━━━━━━━━━━━━━━━━━━━━\u001b[0m\u001b[37m\u001b[0m \u001b[1m1s\u001b[0m 2ms/step\n"
     ]
    }
   ],
   "source": [
    "from sklearn.preprocessing import StandardScaler\n",
    "from tensorflow.keras.models import Sequential\n",
    "from tensorflow.keras.layers import Dense, Dropout, LeakyReLU\n",
    "from tensorflow.keras.optimizers import RMSprop\n",
    "from tensorflow.keras.callbacks import EarlyStopping\n",
    "import numpy as np\n",
    "from sklearn.model_selection import train_test_split\n",
    "\n",
    "# 标准化 X 和 y\n",
    "scaler_X = StandardScaler()\n",
    "X_train_std = scaler_X.fit_transform(X_train)\n",
    "X_test_std = scaler_X.transform(X_test)\n",
    "\n",
    "scaler_y = StandardScaler()\n",
    "y_train_std = scaler_y.fit_transform(y_train)\n",
    "\n",
    "# 将部分数据作为验证集\n",
    "X_train_split, X_val, y_train_split, y_val = train_test_split(X_train_std, y_train_std, test_size=0.1, random_state=42)\n",
    "\n",
    "# 定义神经网络模型\n",
    "model = Sequential([\n",
    "    Dense(128, input_shape=(2,)),\n",
    "    LeakyReLU(alpha=0.1),\n",
    "    Dropout(0.2),\n",
    "    Dense(256),\n",
    "    LeakyReLU(alpha=0.1),\n",
    "    Dropout(0.2),\n",
    "    Dense(128),\n",
    "    LeakyReLU(alpha=0.1),\n",
    "    Dropout(0.2),\n",
    "    Dense(2)  # 输出层\n",
    "])\n",
    "\n",
    "# 使用 RMSprop 编译模型\n",
    "model.compile(optimizer=RMSprop(learning_rate=0.0001), loss='mse')\n",
    "\n",
    "# 使用 EarlyStopping 防止过拟合\n",
    "early_stopping = EarlyStopping(monitor='val_loss', patience=10, restore_best_weights=True)\n",
    "\n",
    "# 训练模型\n",
    "model.fit(X_train_split, y_train_split, validation_data=(X_val, y_val), epochs=300, batch_size=64, verbose=1, callbacks=[early_stopping])\n",
    "\n",
    "# 预测并逆标准化\n",
    "predict_midnn_std = model.predict(X_test_std)\n",
    "predict_midnn_coords = scaler_y.inverse_transform(predict_midnn_std)\n"
   ]
  },
  {
   "cell_type": "code",
   "execution_count": 22,
   "metadata": {},
   "outputs": [],
   "source": [
    "# 步骤 1: 合并锚点数据和预测值\n",
    "# 创建一个占位矩阵用于保存最终结果\n",
    "predicted_coords = np.zeros((20000, 2))\n",
    "# indices 错位\n",
    "adjusted_train_indices = train_indices - 1\n",
    "predicted_coords[adjusted_train_indices] = y_train\n",
    "\n",
    "# 获取剩余18000个数据的索引\n",
    "remaining_indices = np.setdiff1d(np.arange(20000), adjusted_train_indices)\n",
    "# 将预测值放入剩余位置\n",
    "predicted_coords[remaining_indices] = predict_midnn_coords"
   ]
  },
  {
   "cell_type": "code",
   "execution_count": 23,
   "metadata": {},
   "outputs": [],
   "source": [
    "data_truth = np.loadtxt('../Dataset0/Dataset0GroundTruth3.txt', dtype=float)"
   ]
  },
  {
   "cell_type": "code",
   "execution_count": 24,
   "metadata": {},
   "outputs": [
    {
     "name": "stdout",
     "output_type": "stream",
     "text": [
      "Accuracy: 10.00%\n"
     ]
    }
   ],
   "source": [
    "# 步骤 2: 与真实数据比较计算准确率\n",
    "# 设定误差阈值，例如：欧氏距离小于0.05视为预测正确\n",
    "threshold = 0.05\n",
    "# 计算每个点的预测误差\n",
    "errors = np.linalg.norm(predicted_coords - data_truth, axis=1)  # 欧氏距离\n",
    "# 判断哪些点预测正确\n",
    "correct_predictions = errors < threshold\n",
    "accuracy = np.sum(correct_predictions) / 20000  # 准确率\n",
    "\n",
    "# 输出结果\n",
    "print(\"Accuracy: {:.2%}\".format(accuracy))"
   ]
  },
  {
   "cell_type": "code",
   "execution_count": 25,
   "metadata": {},
   "outputs": [
    {
     "name": "stdout",
     "output_type": "stream",
     "text": [
      "Mean Euclidean Distance Error: 84.6671\n"
     ]
    }
   ],
   "source": [
    "# 计算每个点的预测误差（欧氏距离）\n",
    "errors = np.linalg.norm(predicted_coords - data_truth, axis=1)  # 欧氏距离\n",
    "\n",
    "# 计算欧氏距离的平均值\n",
    "mean_error = np.mean(errors)\n",
    "\n",
    "# 输出平均误差\n",
    "print(\"Mean Euclidean Distance Error: {:.4f}\".format(mean_error))\n"
   ]
  },
  {
   "cell_type": "code",
   "execution_count": 32,
   "metadata": {},
   "outputs": [
    {
     "name": "stdout",
     "output_type": "stream",
     "text": [
      "Mean Euclidean Distance Error for set 1: 66.9143\n",
      "Mean Euclidean Distance Error for set 2: 74.9610\n",
      "Mean Euclidean Distance Error for set 3: 84.5370\n",
      "Total Mean Euclidean Distance Error: 75.4708\n"
     ]
    }
   ],
   "source": [
    "import numpy as np\n",
    "\n",
    "def calculate_mean_euclidean_error(predicted_file, groundtruth_file):\n",
    "    # 读取预测数据和真实数据\n",
    "    predicted_coords = np.loadtxt(predicted_file)  # 假设文件格式为两列 x y 坐标\n",
    "    data_truth = np.loadtxt(groundtruth_file)\n",
    "\n",
    "    # 计算每个点的预测误差（欧氏距离）\n",
    "    errors = np.linalg.norm(predicted_coords - data_truth, axis=1)\n",
    "    \n",
    "    # 计算欧氏距离的平均值\n",
    "    mean_error = np.mean(errors)\n",
    "    return mean_error\n",
    "\n",
    "# 文件名\n",
    "output_files = [\"/data/Dataset0/Dataset0OutputPos1.txt\", \"/data/Dataset0/Dataset0OutputPos2.txt\", \"/data/Dataset0/Dataset0OutputPos3.txt\"]\n",
    "groundtruth_files = [\"/data/Dataset0/Dataset0GroundTruth1.txt\", \"/data/Dataset0/Dataset0GroundTruth2.txt\", \"/data/Dataset0/Dataset0GroundTruth3.txt\"]\n",
    "\n",
    "# 计算每组的平均误差\n",
    "mean_errors = [calculate_mean_euclidean_error(output, groundtruth) \n",
    "               for output, groundtruth in zip(output_files, groundtruth_files)]\n",
    "\n",
    "# 计算所有数据的总平均误差\n",
    "total_mean_error = np.mean(mean_errors)\n",
    "\n",
    "# 输出结果\n",
    "for i, error in enumerate(mean_errors, 1):\n",
    "    print(f\"Mean Euclidean Distance Error for set {i}: {error:.4f}\")\n",
    "print(f\"Total Mean Euclidean Distance Error: {total_mean_error:.4f}\")\n"
   ]
  }
 ],
 "metadata": {
  "kernelspec": {
   "display_name": "Python 3",
   "language": "python",
   "name": "python3"
  },
  "language_info": {
   "codemirror_mode": {
    "name": "ipython",
    "version": 3
   },
   "file_extension": ".py",
   "mimetype": "text/x-python",
   "name": "python",
   "nbconvert_exporter": "python",
   "pygments_lexer": "ipython3",
   "version": "3.10.12"
  }
 },
 "nbformat": 4,
 "nbformat_minor": 2
}
